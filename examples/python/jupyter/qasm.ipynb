{
 "cells": [
  {
   "cell_type": "markdown",
   "metadata": {},
   "source": [
    "First, import the library."
   ]
  },
  {
   "cell_type": "code",
   "execution_count": null,
   "metadata": {},
   "outputs": [],
   "source": [
    "from qsharp_bridge import *"
   ]
  },
  {
   "cell_type": "markdown",
   "metadata": {},
   "source": [
    "Then write some Q# code. We will wrap it into a Python variable. Notice that while only the base Q# profile is supported, it still allows us to make use of Q# operations."
   ]
  },
  {
   "cell_type": "code",
   "execution_count": null,
   "metadata": {},
   "outputs": [],
   "source": [
    "code = \"\"\"\n",
    "namespace MyQuantumApp {\n",
    "    @EntryPoint()\n",
    "    operation Run() : (Result, Result) {\n",
    "        use (control, target) = (Qubit(), Qubit());\n",
    "        PrepareBellState(control, target);\n",
    "        \n",
    "        let resultControl = MResetZ(control);\n",
    "        let resultTarget = MResetZ(target);\n",
    "        return (resultControl, resultTarget);\n",
    "    }\n",
    "\n",
    "    operation PrepareBellState(q1 : Qubit, q2: Qubit) : Unit {\n",
    "        H(q1);\n",
    "        CNOT(q1, q2);\n",
    "    }\n",
    "}\n",
    "\"\"\""
   ]
  },
  {
   "cell_type": "markdown",
   "metadata": {},
   "source": [
    "Then set up generation options. We can specify whether the qelib should be included or not, and whether the reset operations are supported.\n",
    "\n",
    "Finally, call the `qasm2` function with the Q# code and the generation options to create QpenQASM code."
   ]
  },
  {
   "cell_type": "code",
   "execution_count": null,
   "metadata": {},
   "outputs": [],
   "source": [
    "generation_options = QasmGenerationOptions(include_qelib=True, reset_behavior=QasmResetBehavior.SUPPORTED)\n",
    "qasm_code = qasm2(code, generation_options)\n",
    "print(qasm_code)"
   ]
  }
 ],
 "metadata": {
  "kernelspec": {
   "display_name": ".venv",
   "language": "python",
   "name": "python3"
  },
  "language_info": {
   "codemirror_mode": {
    "name": "ipython",
    "version": 3
   },
   "file_extension": ".py",
   "mimetype": "text/x-python",
   "name": "python",
   "nbconvert_exporter": "python",
   "pygments_lexer": "ipython3",
   "version": "3.11.4"
  }
 },
 "nbformat": 4,
 "nbformat_minor": 2
}
