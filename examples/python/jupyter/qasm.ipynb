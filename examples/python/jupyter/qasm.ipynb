{
 "cells": [
  {
   "cell_type": "code",
   "execution_count": 19,
   "metadata": {},
   "outputs": [],
   "source": [
    "from qsharp_bridge import *"
   ]
  },
  {
   "cell_type": "code",
   "execution_count": 20,
   "metadata": {},
   "outputs": [],
   "source": [
    "code = \"\"\"\n",
    "namespace MyQuantumApp {\n",
    "    @EntryPoint()\n",
    "    operation Run() : (Result, Result) {\n",
    "        use (control, target) = (Qubit(), Qubit());\n",
    "        PrepareBellState(control, target);\n",
    "        \n",
    "        let resultControl = MResetZ(control);\n",
    "        let resultTarget = MResetZ(target);\n",
    "        return (resultControl, resultTarget);\n",
    "    }\n",
    "\n",
    "    operation PrepareBellState(q1 : Qubit, q2: Qubit) : Unit {\n",
    "        H(q1);\n",
    "        CNOT(q1, q2);\n",
    "    }\n",
    "}\n",
    "\"\"\""
   ]
  },
  {
   "cell_type": "code",
   "execution_count": 21,
   "metadata": {},
   "outputs": [
    {
     "name": "stdout",
     "output_type": "stream",
     "text": [
      "OPENQASM 2.0;\n",
      "include \"qelib1.inc\";\n",
      "qreg q[2];\n",
      "creg c[2];\n",
      "h q[0];\n",
      "cx q[0], q[1];\n",
      "measure q[0] -> c[0];\n",
      "reset q[0];\n",
      "measure q[1] -> c[1];\n",
      "reset q[1];\n",
      "\n"
     ]
    }
   ],
   "source": [
    "generation_options = QasmGenerationOptions(include_qelib=True, reset_behavior=QasmResetBehavior.SUPPORTED)\n",
    "qasm_code = qasm2(code, generation_options)\n",
    "print(qasm_code)"
   ]
  }
 ],
 "metadata": {
  "kernelspec": {
   "display_name": ".venv",
   "language": "python",
   "name": "python3"
  },
  "language_info": {
   "codemirror_mode": {
    "name": "ipython",
    "version": 3
   },
   "file_extension": ".py",
   "mimetype": "text/x-python",
   "name": "python",
   "nbconvert_exporter": "python",
   "pygments_lexer": "ipython3",
   "version": "3.11.4"
  }
 },
 "nbformat": 4,
 "nbformat_minor": 2
}
