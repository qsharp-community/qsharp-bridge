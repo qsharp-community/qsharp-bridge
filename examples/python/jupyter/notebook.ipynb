{
 "cells": [
  {
   "cell_type": "code",
   "execution_count": 8,
   "metadata": {},
   "outputs": [],
   "source": [
    "from qsharp_bridge import *\n",
    "from qsharp_widgets import Circuit\n",
    "import matplotlib.pyplot as plt\n",
    "import os\n",
    "import json\n",
    "import requests\n",
    "import qsharp\n",
    "\n",
    "from requests.packages.urllib3.exceptions import InsecureRequestWarning\n",
    "requests.packages.urllib3.disable_warnings(InsecureRequestWarning)"
   ]
  },
  {
   "cell_type": "code",
   "execution_count": 10,
   "metadata": {},
   "outputs": [],
   "source": [
    "def visualize(data):\n",
    "    pairs = ['[{}, {}]'.format(*pair) for pair in data['result']['c']]\n",
    "    counts = {pair: pairs.count(pair) for pair in set(pairs)}\n",
    "\n",
    "    plt.figure(figsize=(4, 3))\n",
    "    plt.bar(counts.keys(), counts.values())\n",
    "    plt.show()"
   ]
  },
  {
   "cell_type": "code",
   "execution_count": null,
   "metadata": {},
   "outputs": [],
   "source": [
    "code = \"\"\"\n",
    "\n",
    "\"\"\"\n",
    "\n",
    "qsharp.eval(code)"
   ]
  },
  {
   "cell_type": "code",
   "execution_count": 16,
   "metadata": {},
   "outputs": [
    {
     "ename": "QSharpError",
     "evalue": "Error: cannot compare measurement results\nCall stack:\n    at RunBell in line_6\n    at Main in line_6\nQsc.Eval.ResultComparisonUnsupported\n\n  x runtime error\n  `-> cannot compare measurement results\n    ,-[line_6:30:23]\n 29 | \n 30 |             if (r1 == Zero and r2 == Zero) { set res w/= 0 <- res[0]+1; }\n    :                       ^^|^\n    :                         `-- cannot compare to result\n 31 |             if (r1 == Zero and r2 == One) { set res w/= 1 <- res[1]+1; }\n    `----\n  help: comparing measurement results is not supported when performing\n        circuit synthesis or base profile QIR generation\n",
     "output_type": "error",
     "traceback": [
      "\u001b[0;31m---------------------------------------------------------------------------\u001b[0m",
      "\u001b[0;31mQSharpError\u001b[0m                               Traceback (most recent call last)",
      "Cell \u001b[0;32mIn[16], line 1\u001b[0m\n\u001b[0;32m----> 1\u001b[0m Circuit(\u001b[43mqsharp\u001b[49m\u001b[38;5;241;43m.\u001b[39;49m\u001b[43mcircuit\u001b[49m\u001b[43m(\u001b[49m\u001b[38;5;124;43m\"\u001b[39;49m\u001b[38;5;124;43mMain()\u001b[39;49m\u001b[38;5;124;43m\"\u001b[39;49m\u001b[43m)\u001b[49m)\n",
      "File \u001b[0;32m~/dev/qsharp-bridge/.venv/lib/python3.11/site-packages/qsharp/_qsharp.py:413\u001b[0m, in \u001b[0;36mcircuit\u001b[0;34m(entry_expr, operation)\u001b[0m\n\u001b[1;32m    400\u001b[0m \u001b[38;5;250m\u001b[39m\u001b[38;5;124;03m\"\"\"\u001b[39;00m\n\u001b[1;32m    401\u001b[0m \u001b[38;5;124;03mSynthesizes a circuit for a Q# program. Either an entry\u001b[39;00m\n\u001b[1;32m    402\u001b[0m \u001b[38;5;124;03mexpression or an operation must be provided.\u001b[39;00m\n\u001b[0;32m   (...)\u001b[0m\n\u001b[1;32m    410\u001b[0m \u001b[38;5;124;03m:raises QSharpError: If there is an error synthesizing the circuit.\u001b[39;00m\n\u001b[1;32m    411\u001b[0m \u001b[38;5;124;03m\"\"\"\u001b[39;00m\n\u001b[1;32m    412\u001b[0m ipython_helper()\n\u001b[0;32m--> 413\u001b[0m \u001b[38;5;28;01mreturn\u001b[39;00m \u001b[43mget_interpreter\u001b[49m\u001b[43m(\u001b[49m\u001b[43m)\u001b[49m\u001b[38;5;241;43m.\u001b[39;49m\u001b[43mcircuit\u001b[49m\u001b[43m(\u001b[49m\u001b[43mentry_expr\u001b[49m\u001b[43m,\u001b[49m\u001b[43m \u001b[49m\u001b[43moperation\u001b[49m\u001b[43m)\u001b[49m\n",
      "\u001b[0;31mQSharpError\u001b[0m: Error: cannot compare measurement results\nCall stack:\n    at RunBell in line_6\n    at Main in line_6\nQsc.Eval.ResultComparisonUnsupported\n\n  x runtime error\n  `-> cannot compare measurement results\n    ,-[line_6:30:23]\n 29 | \n 30 |             if (r1 == Zero and r2 == Zero) { set res w/= 0 <- res[0]+1; }\n    :                       ^^|^\n    :                         `-- cannot compare to result\n 31 |             if (r1 == Zero and r2 == One) { set res w/= 1 <- res[1]+1; }\n    `----\n  help: comparing measurement results is not supported when performing\n        circuit synthesis or base profile QIR generation\n"
     ]
    }
   ],
   "source": [
    "Circuit(qsharp.circuit(\"Main()\"))"
   ]
  },
  {
   "cell_type": "code",
   "execution_count": 5,
   "metadata": {},
   "outputs": [
    {
     "name": "stdout",
     "output_type": "stream",
     "text": [
      "OPENQASM 2.0;\n",
      "include \"qelib1.inc\";\n",
      "qreg q[2];\n",
      "creg c[2];\n",
      "h q[0];\n",
      "cx q[0], q[1];\n",
      "measure q[0] -> c[0];\n",
      "measure q[1] -> c[1];\n",
      "\n"
     ]
    }
   ],
   "source": [
    "qasm_code = qasm2(code)\n",
    "print(qasm_code)"
   ]
  },
  {
   "cell_type": "code",
   "execution_count": null,
   "metadata": {},
   "outputs": [
    {
     "data": {
      "image/png": "[encoded data removed]",
      "text/plain": [
       "<Figure size 400x300 with 1 Axes>"
      ]
     },
     "metadata": {},
     "output_type": "display_data"
    }
   ],
   "source": [
    "req = {\n",
    "    'script': qasm_code,\n",
    "    'count': 30\n",
    "}\n",
    "\n",
    "result = requests.post('<path to QASM simulator>', json=req, verify=False)\n",
    "data = json.loads(result.content)\n",
    "visualize(data)"
   ]
  }
 ],
 "metadata": {
  "kernelspec": {
   "display_name": ".venv",
   "language": "python",
   "name": "python3"
  },
  "language_info": {
   "codemirror_mode": {
    "name": "ipython",
    "version": 3
   },
   "file_extension": ".py",
   "mimetype": "text/x-python",
   "name": "python",
   "nbconvert_exporter": "python",
   "pygments_lexer": "ipython3",
   "version": "3.11.4"
  }
 },
 "nbformat": 4,
 "nbformat_minor": 2
}
